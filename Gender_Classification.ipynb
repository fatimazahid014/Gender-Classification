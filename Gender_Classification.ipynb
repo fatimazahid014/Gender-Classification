{
  "nbformat": 4,
  "nbformat_minor": 0,
  "metadata": {
    "colab": {
      "provenance": [],
      "collapsed_sections": []
    },
    "kernelspec": {
      "name": "python3",
      "display_name": "Python 3"
    },
    "language_info": {
      "name": "python"
    }
  },
  "cells": [
    {
      "cell_type": "markdown",
      "source": [
        "### **Name:** Fatima Zahid\n",
        "### **CMS ID:** 294782\n",
        "\n",
        "### **Deep Learning Lab 07**\n",
        "## Gender Classification - BATCH,SGD, And Mini Batch Gradient Descents"
      ],
      "metadata": {
        "id": "dKU-NsEsbt2m"
      }
    },
    {
      "cell_type": "markdown",
      "source": [
        "## Importing  Libraries"
      ],
      "metadata": {
        "id": "1e2HK9jQuQZh"
      }
    },
    {
      "cell_type": "code",
      "source": [
        "import numpy as np\n",
        "from matplotlib import pyplot as plt\n",
        "import pandas as pd\n",
        "import tensorflow as tf\n",
        "from tensorflow import keras\n",
        "\n",
        "from sklearn.preprocessing import LabelEncoder\n",
        "from sklearn.model_selection import train_test_split\n",
        "from sklearn.metrics import classification_report, confusion_matrix\n"
      ],
      "metadata": {
        "id": "L7sgpmQDXLFa"
      },
      "execution_count": 70,
      "outputs": []
    },
    {
      "cell_type": "code",
      "source": [
        "data = pd.read_csv(\"https://raw.githubusercontent.com/fatimazahid014/Gender-Classification/main/Transformed%20Data%20Set%20-%20Sheet1.csv\")\n",
        "X = data.drop(\"Gender\" , axis =1)\n",
        "y= data.Gender"
      ],
      "metadata": {
        "id": "_EGBQyqTLwwY"
      },
      "execution_count": 71,
      "outputs": []
    },
    {
      "cell_type": "code",
      "source": [
        "X.head()"
      ],
      "metadata": {
        "colab": {
          "base_uri": "https://localhost:8080/",
          "height": 206
        },
        "id": "w3l8bTG8L7dn",
        "outputId": "f1f838db-6d1a-43ef-c7bb-43c001bf052b"
      },
      "execution_count": 72,
      "outputs": [
        {
          "output_type": "execute_result",
          "data": {
            "text/plain": [
              "  Favorite Color Favorite Music Genre Favorite Beverage Favorite Soft Drink\n",
              "0           Cool                 Rock             Vodka          7UP/Sprite\n",
              "1        Neutral              Hip hop             Vodka     Coca Cola/Pepsi\n",
              "2           Warm                 Rock              Wine     Coca Cola/Pepsi\n",
              "3           Warm     Folk/Traditional           Whiskey               Fanta\n",
              "4           Cool                 Rock             Vodka     Coca Cola/Pepsi"
            ],
            "text/html": [
              "\n",
              "  <div id=\"df-1ef8d75a-b570-420d-b8b9-62f301ef08eb\">\n",
              "    <div class=\"colab-df-container\">\n",
              "      <div>\n",
              "<style scoped>\n",
              "    .dataframe tbody tr th:only-of-type {\n",
              "        vertical-align: middle;\n",
              "    }\n",
              "\n",
              "    .dataframe tbody tr th {\n",
              "        vertical-align: top;\n",
              "    }\n",
              "\n",
              "    .dataframe thead th {\n",
              "        text-align: right;\n",
              "    }\n",
              "</style>\n",
              "<table border=\"1\" class=\"dataframe\">\n",
              "  <thead>\n",
              "    <tr style=\"text-align: right;\">\n",
              "      <th></th>\n",
              "      <th>Favorite Color</th>\n",
              "      <th>Favorite Music Genre</th>\n",
              "      <th>Favorite Beverage</th>\n",
              "      <th>Favorite Soft Drink</th>\n",
              "    </tr>\n",
              "  </thead>\n",
              "  <tbody>\n",
              "    <tr>\n",
              "      <th>0</th>\n",
              "      <td>Cool</td>\n",
              "      <td>Rock</td>\n",
              "      <td>Vodka</td>\n",
              "      <td>7UP/Sprite</td>\n",
              "    </tr>\n",
              "    <tr>\n",
              "      <th>1</th>\n",
              "      <td>Neutral</td>\n",
              "      <td>Hip hop</td>\n",
              "      <td>Vodka</td>\n",
              "      <td>Coca Cola/Pepsi</td>\n",
              "    </tr>\n",
              "    <tr>\n",
              "      <th>2</th>\n",
              "      <td>Warm</td>\n",
              "      <td>Rock</td>\n",
              "      <td>Wine</td>\n",
              "      <td>Coca Cola/Pepsi</td>\n",
              "    </tr>\n",
              "    <tr>\n",
              "      <th>3</th>\n",
              "      <td>Warm</td>\n",
              "      <td>Folk/Traditional</td>\n",
              "      <td>Whiskey</td>\n",
              "      <td>Fanta</td>\n",
              "    </tr>\n",
              "    <tr>\n",
              "      <th>4</th>\n",
              "      <td>Cool</td>\n",
              "      <td>Rock</td>\n",
              "      <td>Vodka</td>\n",
              "      <td>Coca Cola/Pepsi</td>\n",
              "    </tr>\n",
              "  </tbody>\n",
              "</table>\n",
              "</div>\n",
              "      <button class=\"colab-df-convert\" onclick=\"convertToInteractive('df-1ef8d75a-b570-420d-b8b9-62f301ef08eb')\"\n",
              "              title=\"Convert this dataframe to an interactive table.\"\n",
              "              style=\"display:none;\">\n",
              "        \n",
              "  <svg xmlns=\"http://www.w3.org/2000/svg\" height=\"24px\"viewBox=\"0 0 24 24\"\n",
              "       width=\"24px\">\n",
              "    <path d=\"M0 0h24v24H0V0z\" fill=\"none\"/>\n",
              "    <path d=\"M18.56 5.44l.94 2.06.94-2.06 2.06-.94-2.06-.94-.94-2.06-.94 2.06-2.06.94zm-11 1L8.5 8.5l.94-2.06 2.06-.94-2.06-.94L8.5 2.5l-.94 2.06-2.06.94zm10 10l.94 2.06.94-2.06 2.06-.94-2.06-.94-.94-2.06-.94 2.06-2.06.94z\"/><path d=\"M17.41 7.96l-1.37-1.37c-.4-.4-.92-.59-1.43-.59-.52 0-1.04.2-1.43.59L10.3 9.45l-7.72 7.72c-.78.78-.78 2.05 0 2.83L4 21.41c.39.39.9.59 1.41.59.51 0 1.02-.2 1.41-.59l7.78-7.78 2.81-2.81c.8-.78.8-2.07 0-2.86zM5.41 20L4 18.59l7.72-7.72 1.47 1.35L5.41 20z\"/>\n",
              "  </svg>\n",
              "      </button>\n",
              "      \n",
              "  <style>\n",
              "    .colab-df-container {\n",
              "      display:flex;\n",
              "      flex-wrap:wrap;\n",
              "      gap: 12px;\n",
              "    }\n",
              "\n",
              "    .colab-df-convert {\n",
              "      background-color: #E8F0FE;\n",
              "      border: none;\n",
              "      border-radius: 50%;\n",
              "      cursor: pointer;\n",
              "      display: none;\n",
              "      fill: #1967D2;\n",
              "      height: 32px;\n",
              "      padding: 0 0 0 0;\n",
              "      width: 32px;\n",
              "    }\n",
              "\n",
              "    .colab-df-convert:hover {\n",
              "      background-color: #E2EBFA;\n",
              "      box-shadow: 0px 1px 2px rgba(60, 64, 67, 0.3), 0px 1px 3px 1px rgba(60, 64, 67, 0.15);\n",
              "      fill: #174EA6;\n",
              "    }\n",
              "\n",
              "    [theme=dark] .colab-df-convert {\n",
              "      background-color: #3B4455;\n",
              "      fill: #D2E3FC;\n",
              "    }\n",
              "\n",
              "    [theme=dark] .colab-df-convert:hover {\n",
              "      background-color: #434B5C;\n",
              "      box-shadow: 0px 1px 3px 1px rgba(0, 0, 0, 0.15);\n",
              "      filter: drop-shadow(0px 1px 2px rgba(0, 0, 0, 0.3));\n",
              "      fill: #FFFFFF;\n",
              "    }\n",
              "  </style>\n",
              "\n",
              "      <script>\n",
              "        const buttonEl =\n",
              "          document.querySelector('#df-1ef8d75a-b570-420d-b8b9-62f301ef08eb button.colab-df-convert');\n",
              "        buttonEl.style.display =\n",
              "          google.colab.kernel.accessAllowed ? 'block' : 'none';\n",
              "\n",
              "        async function convertToInteractive(key) {\n",
              "          const element = document.querySelector('#df-1ef8d75a-b570-420d-b8b9-62f301ef08eb');\n",
              "          const dataTable =\n",
              "            await google.colab.kernel.invokeFunction('convertToInteractive',\n",
              "                                                     [key], {});\n",
              "          if (!dataTable) return;\n",
              "\n",
              "          const docLinkHtml = 'Like what you see? Visit the ' +\n",
              "            '<a target=\"_blank\" href=https://colab.research.google.com/notebooks/data_table.ipynb>data table notebook</a>'\n",
              "            + ' to learn more about interactive tables.';\n",
              "          element.innerHTML = '';\n",
              "          dataTable['output_type'] = 'display_data';\n",
              "          await google.colab.output.renderOutput(dataTable, element);\n",
              "          const docLink = document.createElement('div');\n",
              "          docLink.innerHTML = docLinkHtml;\n",
              "          element.appendChild(docLink);\n",
              "        }\n",
              "      </script>\n",
              "    </div>\n",
              "  </div>\n",
              "  "
            ]
          },
          "metadata": {},
          "execution_count": 72
        }
      ]
    },
    {
      "cell_type": "code",
      "source": [
        "X.isnull().sum()"
      ],
      "metadata": {
        "colab": {
          "base_uri": "https://localhost:8080/"
        },
        "id": "tksOcAEhiaKq",
        "outputId": "46593a8d-f95a-4d59-b83d-aec900b11ad7"
      },
      "execution_count": 73,
      "outputs": [
        {
          "output_type": "execute_result",
          "data": {
            "text/plain": [
              "Favorite Color          0\n",
              "Favorite Music Genre    0\n",
              "Favorite Beverage       0\n",
              "Favorite Soft Drink     0\n",
              "dtype: int64"
            ]
          },
          "metadata": {},
          "execution_count": 73
        }
      ]
    },
    {
      "cell_type": "code",
      "source": [
        "X.shape"
      ],
      "metadata": {
        "colab": {
          "base_uri": "https://localhost:8080/"
        },
        "id": "avhhZQKLL9z3",
        "outputId": "5954a3a0-3487-4dfd-a72c-2f6309d3e43c"
      },
      "execution_count": 74,
      "outputs": [
        {
          "output_type": "execute_result",
          "data": {
            "text/plain": [
              "(66, 4)"
            ]
          },
          "metadata": {},
          "execution_count": 74
        }
      ]
    },
    {
      "cell_type": "code",
      "source": [
        "data[data[\"Favorite Color\"] == \"Cool\"][\"Gender\"].value_counts(normalize=True)"
      ],
      "metadata": {
        "colab": {
          "base_uri": "https://localhost:8080/"
        },
        "id": "8mWApRJgML2k",
        "outputId": "84eb1eea-9bc6-4b17-d113-1d160d4f63ca"
      },
      "execution_count": 75,
      "outputs": [
        {
          "output_type": "execute_result",
          "data": {
            "text/plain": [
              "M    0.540541\n",
              "F    0.459459\n",
              "Name: Gender, dtype: float64"
            ]
          },
          "metadata": {},
          "execution_count": 75
        }
      ]
    },
    {
      "cell_type": "code",
      "source": [
        "encoder = LabelEncoder()\n",
        "project_data = data.copy()\n",
        "project_data['Favorite_Color_Transformed'] = encoder.fit_transform(data['Favorite Color'])\n",
        "project_data['Favorite_Music_Genre_Transformed'] = encoder.fit_transform(data['Favorite Music Genre'])\n",
        "project_data['Favorite_Beverage_Transformed'] = encoder.fit_transform(data['Favorite Beverage'])\n",
        "project_data['Favorite_Soft_Drink_Transformed'] = encoder.fit_transform(data['Favorite Soft Drink'])\n",
        "project_data['Gender_Transformed'] = encoder.fit_transform(data['Gender'])"
      ],
      "metadata": {
        "id": "tAW241F3McvM"
      },
      "execution_count": 76,
      "outputs": []
    },
    {
      "cell_type": "code",
      "source": [
        "train_data = project_data.drop([\"Favorite Color\" , \"Favorite Music Genre\", \"Favorite Beverage\", \"Favorite Soft Drink\" , \"Gender\"], axis= 1  )\n",
        "train_data.head()\n",
        "project_data.head()"
      ],
      "metadata": {
        "colab": {
          "base_uri": "https://localhost:8080/",
          "height": 357
        },
        "id": "yIVLXwa7MlIk",
        "outputId": "720e2e29-50d3-494b-ea64-0bf102d857cb"
      },
      "execution_count": 77,
      "outputs": [
        {
          "output_type": "execute_result",
          "data": {
            "text/plain": [
              "  Favorite Color Favorite Music Genre Favorite Beverage Favorite Soft Drink  \\\n",
              "0           Cool                 Rock             Vodka          7UP/Sprite   \n",
              "1        Neutral              Hip hop             Vodka     Coca Cola/Pepsi   \n",
              "2           Warm                 Rock              Wine     Coca Cola/Pepsi   \n",
              "3           Warm     Folk/Traditional           Whiskey               Fanta   \n",
              "4           Cool                 Rock             Vodka     Coca Cola/Pepsi   \n",
              "\n",
              "  Gender  Favorite_Color_Transformed  Favorite_Music_Genre_Transformed  \\\n",
              "0      F                           0                                 6   \n",
              "1      F                           1                                 2   \n",
              "2      F                           2                                 6   \n",
              "3      F                           2                                 1   \n",
              "4      F                           0                                 6   \n",
              "\n",
              "   Favorite_Beverage_Transformed  Favorite_Soft_Drink_Transformed  \\\n",
              "0                              3                                0   \n",
              "1                              3                                1   \n",
              "2                              5                                1   \n",
              "3                              4                                2   \n",
              "4                              3                                1   \n",
              "\n",
              "   Gender_Transformed  \n",
              "0                   0  \n",
              "1                   0  \n",
              "2                   0  \n",
              "3                   0  \n",
              "4                   0  "
            ],
            "text/html": [
              "\n",
              "  <div id=\"df-b6c3df90-b885-485b-8c7e-600dd1ae785d\">\n",
              "    <div class=\"colab-df-container\">\n",
              "      <div>\n",
              "<style scoped>\n",
              "    .dataframe tbody tr th:only-of-type {\n",
              "        vertical-align: middle;\n",
              "    }\n",
              "\n",
              "    .dataframe tbody tr th {\n",
              "        vertical-align: top;\n",
              "    }\n",
              "\n",
              "    .dataframe thead th {\n",
              "        text-align: right;\n",
              "    }\n",
              "</style>\n",
              "<table border=\"1\" class=\"dataframe\">\n",
              "  <thead>\n",
              "    <tr style=\"text-align: right;\">\n",
              "      <th></th>\n",
              "      <th>Favorite Color</th>\n",
              "      <th>Favorite Music Genre</th>\n",
              "      <th>Favorite Beverage</th>\n",
              "      <th>Favorite Soft Drink</th>\n",
              "      <th>Gender</th>\n",
              "      <th>Favorite_Color_Transformed</th>\n",
              "      <th>Favorite_Music_Genre_Transformed</th>\n",
              "      <th>Favorite_Beverage_Transformed</th>\n",
              "      <th>Favorite_Soft_Drink_Transformed</th>\n",
              "      <th>Gender_Transformed</th>\n",
              "    </tr>\n",
              "  </thead>\n",
              "  <tbody>\n",
              "    <tr>\n",
              "      <th>0</th>\n",
              "      <td>Cool</td>\n",
              "      <td>Rock</td>\n",
              "      <td>Vodka</td>\n",
              "      <td>7UP/Sprite</td>\n",
              "      <td>F</td>\n",
              "      <td>0</td>\n",
              "      <td>6</td>\n",
              "      <td>3</td>\n",
              "      <td>0</td>\n",
              "      <td>0</td>\n",
              "    </tr>\n",
              "    <tr>\n",
              "      <th>1</th>\n",
              "      <td>Neutral</td>\n",
              "      <td>Hip hop</td>\n",
              "      <td>Vodka</td>\n",
              "      <td>Coca Cola/Pepsi</td>\n",
              "      <td>F</td>\n",
              "      <td>1</td>\n",
              "      <td>2</td>\n",
              "      <td>3</td>\n",
              "      <td>1</td>\n",
              "      <td>0</td>\n",
              "    </tr>\n",
              "    <tr>\n",
              "      <th>2</th>\n",
              "      <td>Warm</td>\n",
              "      <td>Rock</td>\n",
              "      <td>Wine</td>\n",
              "      <td>Coca Cola/Pepsi</td>\n",
              "      <td>F</td>\n",
              "      <td>2</td>\n",
              "      <td>6</td>\n",
              "      <td>5</td>\n",
              "      <td>1</td>\n",
              "      <td>0</td>\n",
              "    </tr>\n",
              "    <tr>\n",
              "      <th>3</th>\n",
              "      <td>Warm</td>\n",
              "      <td>Folk/Traditional</td>\n",
              "      <td>Whiskey</td>\n",
              "      <td>Fanta</td>\n",
              "      <td>F</td>\n",
              "      <td>2</td>\n",
              "      <td>1</td>\n",
              "      <td>4</td>\n",
              "      <td>2</td>\n",
              "      <td>0</td>\n",
              "    </tr>\n",
              "    <tr>\n",
              "      <th>4</th>\n",
              "      <td>Cool</td>\n",
              "      <td>Rock</td>\n",
              "      <td>Vodka</td>\n",
              "      <td>Coca Cola/Pepsi</td>\n",
              "      <td>F</td>\n",
              "      <td>0</td>\n",
              "      <td>6</td>\n",
              "      <td>3</td>\n",
              "      <td>1</td>\n",
              "      <td>0</td>\n",
              "    </tr>\n",
              "  </tbody>\n",
              "</table>\n",
              "</div>\n",
              "      <button class=\"colab-df-convert\" onclick=\"convertToInteractive('df-b6c3df90-b885-485b-8c7e-600dd1ae785d')\"\n",
              "              title=\"Convert this dataframe to an interactive table.\"\n",
              "              style=\"display:none;\">\n",
              "        \n",
              "  <svg xmlns=\"http://www.w3.org/2000/svg\" height=\"24px\"viewBox=\"0 0 24 24\"\n",
              "       width=\"24px\">\n",
              "    <path d=\"M0 0h24v24H0V0z\" fill=\"none\"/>\n",
              "    <path d=\"M18.56 5.44l.94 2.06.94-2.06 2.06-.94-2.06-.94-.94-2.06-.94 2.06-2.06.94zm-11 1L8.5 8.5l.94-2.06 2.06-.94-2.06-.94L8.5 2.5l-.94 2.06-2.06.94zm10 10l.94 2.06.94-2.06 2.06-.94-2.06-.94-.94-2.06-.94 2.06-2.06.94z\"/><path d=\"M17.41 7.96l-1.37-1.37c-.4-.4-.92-.59-1.43-.59-.52 0-1.04.2-1.43.59L10.3 9.45l-7.72 7.72c-.78.78-.78 2.05 0 2.83L4 21.41c.39.39.9.59 1.41.59.51 0 1.02-.2 1.41-.59l7.78-7.78 2.81-2.81c.8-.78.8-2.07 0-2.86zM5.41 20L4 18.59l7.72-7.72 1.47 1.35L5.41 20z\"/>\n",
              "  </svg>\n",
              "      </button>\n",
              "      \n",
              "  <style>\n",
              "    .colab-df-container {\n",
              "      display:flex;\n",
              "      flex-wrap:wrap;\n",
              "      gap: 12px;\n",
              "    }\n",
              "\n",
              "    .colab-df-convert {\n",
              "      background-color: #E8F0FE;\n",
              "      border: none;\n",
              "      border-radius: 50%;\n",
              "      cursor: pointer;\n",
              "      display: none;\n",
              "      fill: #1967D2;\n",
              "      height: 32px;\n",
              "      padding: 0 0 0 0;\n",
              "      width: 32px;\n",
              "    }\n",
              "\n",
              "    .colab-df-convert:hover {\n",
              "      background-color: #E2EBFA;\n",
              "      box-shadow: 0px 1px 2px rgba(60, 64, 67, 0.3), 0px 1px 3px 1px rgba(60, 64, 67, 0.15);\n",
              "      fill: #174EA6;\n",
              "    }\n",
              "\n",
              "    [theme=dark] .colab-df-convert {\n",
              "      background-color: #3B4455;\n",
              "      fill: #D2E3FC;\n",
              "    }\n",
              "\n",
              "    [theme=dark] .colab-df-convert:hover {\n",
              "      background-color: #434B5C;\n",
              "      box-shadow: 0px 1px 3px 1px rgba(0, 0, 0, 0.15);\n",
              "      filter: drop-shadow(0px 1px 2px rgba(0, 0, 0, 0.3));\n",
              "      fill: #FFFFFF;\n",
              "    }\n",
              "  </style>\n",
              "\n",
              "      <script>\n",
              "        const buttonEl =\n",
              "          document.querySelector('#df-b6c3df90-b885-485b-8c7e-600dd1ae785d button.colab-df-convert');\n",
              "        buttonEl.style.display =\n",
              "          google.colab.kernel.accessAllowed ? 'block' : 'none';\n",
              "\n",
              "        async function convertToInteractive(key) {\n",
              "          const element = document.querySelector('#df-b6c3df90-b885-485b-8c7e-600dd1ae785d');\n",
              "          const dataTable =\n",
              "            await google.colab.kernel.invokeFunction('convertToInteractive',\n",
              "                                                     [key], {});\n",
              "          if (!dataTable) return;\n",
              "\n",
              "          const docLinkHtml = 'Like what you see? Visit the ' +\n",
              "            '<a target=\"_blank\" href=https://colab.research.google.com/notebooks/data_table.ipynb>data table notebook</a>'\n",
              "            + ' to learn more about interactive tables.';\n",
              "          element.innerHTML = '';\n",
              "          dataTable['output_type'] = 'display_data';\n",
              "          await google.colab.output.renderOutput(dataTable, element);\n",
              "          const docLink = document.createElement('div');\n",
              "          docLink.innerHTML = docLinkHtml;\n",
              "          element.appendChild(docLink);\n",
              "        }\n",
              "      </script>\n",
              "    </div>\n",
              "  </div>\n",
              "  "
            ]
          },
          "metadata": {},
          "execution_count": 77
        }
      ]
    },
    {
      "cell_type": "code",
      "source": [
        "Y = project_data['Gender']\n",
        "X = project_data.drop(['Favorite Color','Favorite Music Genre','Favorite Beverage','Favorite Soft Drink','Gender','Gender_Transformed'], axis=1)\n",
        "Y= Y.replace(to_replace = ['M', 'F'], value = [1,0])   #replacing Male and female with 1 and 0\n"
      ],
      "metadata": {
        "id": "KELAOz3oMtOA"
      },
      "execution_count": 78,
      "outputs": []
    },
    {
      "cell_type": "code",
      "source": [
        "X"
      ],
      "metadata": {
        "colab": {
          "base_uri": "https://localhost:8080/",
          "height": 424
        },
        "id": "eTCErc2Z2z0f",
        "outputId": "a01ba627-5369-4f02-edb7-54ab6e2fad7f"
      },
      "execution_count": 79,
      "outputs": [
        {
          "output_type": "execute_result",
          "data": {
            "text/plain": [
              "    Favorite_Color_Transformed  Favorite_Music_Genre_Transformed  \\\n",
              "0                            0                                 6   \n",
              "1                            1                                 2   \n",
              "2                            2                                 6   \n",
              "3                            2                                 1   \n",
              "4                            0                                 6   \n",
              "..                         ...                               ...   \n",
              "61                           0                                 6   \n",
              "62                           0                                 2   \n",
              "63                           1                                 2   \n",
              "64                           0                                 6   \n",
              "65                           0                                 0   \n",
              "\n",
              "    Favorite_Beverage_Transformed  Favorite_Soft_Drink_Transformed  \n",
              "0                               3                                0  \n",
              "1                               3                                1  \n",
              "2                               5                                1  \n",
              "3                               4                                2  \n",
              "4                               3                                1  \n",
              "..                            ...                              ...  \n",
              "61                              3                                1  \n",
              "62                              0                                1  \n",
              "63                              1                                2  \n",
              "64                              5                                1  \n",
              "65                              0                                1  \n",
              "\n",
              "[66 rows x 4 columns]"
            ],
            "text/html": [
              "\n",
              "  <div id=\"df-6960af4b-f65a-45ed-9dc9-0b12f6cf8508\">\n",
              "    <div class=\"colab-df-container\">\n",
              "      <div>\n",
              "<style scoped>\n",
              "    .dataframe tbody tr th:only-of-type {\n",
              "        vertical-align: middle;\n",
              "    }\n",
              "\n",
              "    .dataframe tbody tr th {\n",
              "        vertical-align: top;\n",
              "    }\n",
              "\n",
              "    .dataframe thead th {\n",
              "        text-align: right;\n",
              "    }\n",
              "</style>\n",
              "<table border=\"1\" class=\"dataframe\">\n",
              "  <thead>\n",
              "    <tr style=\"text-align: right;\">\n",
              "      <th></th>\n",
              "      <th>Favorite_Color_Transformed</th>\n",
              "      <th>Favorite_Music_Genre_Transformed</th>\n",
              "      <th>Favorite_Beverage_Transformed</th>\n",
              "      <th>Favorite_Soft_Drink_Transformed</th>\n",
              "    </tr>\n",
              "  </thead>\n",
              "  <tbody>\n",
              "    <tr>\n",
              "      <th>0</th>\n",
              "      <td>0</td>\n",
              "      <td>6</td>\n",
              "      <td>3</td>\n",
              "      <td>0</td>\n",
              "    </tr>\n",
              "    <tr>\n",
              "      <th>1</th>\n",
              "      <td>1</td>\n",
              "      <td>2</td>\n",
              "      <td>3</td>\n",
              "      <td>1</td>\n",
              "    </tr>\n",
              "    <tr>\n",
              "      <th>2</th>\n",
              "      <td>2</td>\n",
              "      <td>6</td>\n",
              "      <td>5</td>\n",
              "      <td>1</td>\n",
              "    </tr>\n",
              "    <tr>\n",
              "      <th>3</th>\n",
              "      <td>2</td>\n",
              "      <td>1</td>\n",
              "      <td>4</td>\n",
              "      <td>2</td>\n",
              "    </tr>\n",
              "    <tr>\n",
              "      <th>4</th>\n",
              "      <td>0</td>\n",
              "      <td>6</td>\n",
              "      <td>3</td>\n",
              "      <td>1</td>\n",
              "    </tr>\n",
              "    <tr>\n",
              "      <th>...</th>\n",
              "      <td>...</td>\n",
              "      <td>...</td>\n",
              "      <td>...</td>\n",
              "      <td>...</td>\n",
              "    </tr>\n",
              "    <tr>\n",
              "      <th>61</th>\n",
              "      <td>0</td>\n",
              "      <td>6</td>\n",
              "      <td>3</td>\n",
              "      <td>1</td>\n",
              "    </tr>\n",
              "    <tr>\n",
              "      <th>62</th>\n",
              "      <td>0</td>\n",
              "      <td>2</td>\n",
              "      <td>0</td>\n",
              "      <td>1</td>\n",
              "    </tr>\n",
              "    <tr>\n",
              "      <th>63</th>\n",
              "      <td>1</td>\n",
              "      <td>2</td>\n",
              "      <td>1</td>\n",
              "      <td>2</td>\n",
              "    </tr>\n",
              "    <tr>\n",
              "      <th>64</th>\n",
              "      <td>0</td>\n",
              "      <td>6</td>\n",
              "      <td>5</td>\n",
              "      <td>1</td>\n",
              "    </tr>\n",
              "    <tr>\n",
              "      <th>65</th>\n",
              "      <td>0</td>\n",
              "      <td>0</td>\n",
              "      <td>0</td>\n",
              "      <td>1</td>\n",
              "    </tr>\n",
              "  </tbody>\n",
              "</table>\n",
              "<p>66 rows × 4 columns</p>\n",
              "</div>\n",
              "      <button class=\"colab-df-convert\" onclick=\"convertToInteractive('df-6960af4b-f65a-45ed-9dc9-0b12f6cf8508')\"\n",
              "              title=\"Convert this dataframe to an interactive table.\"\n",
              "              style=\"display:none;\">\n",
              "        \n",
              "  <svg xmlns=\"http://www.w3.org/2000/svg\" height=\"24px\"viewBox=\"0 0 24 24\"\n",
              "       width=\"24px\">\n",
              "    <path d=\"M0 0h24v24H0V0z\" fill=\"none\"/>\n",
              "    <path d=\"M18.56 5.44l.94 2.06.94-2.06 2.06-.94-2.06-.94-.94-2.06-.94 2.06-2.06.94zm-11 1L8.5 8.5l.94-2.06 2.06-.94-2.06-.94L8.5 2.5l-.94 2.06-2.06.94zm10 10l.94 2.06.94-2.06 2.06-.94-2.06-.94-.94-2.06-.94 2.06-2.06.94z\"/><path d=\"M17.41 7.96l-1.37-1.37c-.4-.4-.92-.59-1.43-.59-.52 0-1.04.2-1.43.59L10.3 9.45l-7.72 7.72c-.78.78-.78 2.05 0 2.83L4 21.41c.39.39.9.59 1.41.59.51 0 1.02-.2 1.41-.59l7.78-7.78 2.81-2.81c.8-.78.8-2.07 0-2.86zM5.41 20L4 18.59l7.72-7.72 1.47 1.35L5.41 20z\"/>\n",
              "  </svg>\n",
              "      </button>\n",
              "      \n",
              "  <style>\n",
              "    .colab-df-container {\n",
              "      display:flex;\n",
              "      flex-wrap:wrap;\n",
              "      gap: 12px;\n",
              "    }\n",
              "\n",
              "    .colab-df-convert {\n",
              "      background-color: #E8F0FE;\n",
              "      border: none;\n",
              "      border-radius: 50%;\n",
              "      cursor: pointer;\n",
              "      display: none;\n",
              "      fill: #1967D2;\n",
              "      height: 32px;\n",
              "      padding: 0 0 0 0;\n",
              "      width: 32px;\n",
              "    }\n",
              "\n",
              "    .colab-df-convert:hover {\n",
              "      background-color: #E2EBFA;\n",
              "      box-shadow: 0px 1px 2px rgba(60, 64, 67, 0.3), 0px 1px 3px 1px rgba(60, 64, 67, 0.15);\n",
              "      fill: #174EA6;\n",
              "    }\n",
              "\n",
              "    [theme=dark] .colab-df-convert {\n",
              "      background-color: #3B4455;\n",
              "      fill: #D2E3FC;\n",
              "    }\n",
              "\n",
              "    [theme=dark] .colab-df-convert:hover {\n",
              "      background-color: #434B5C;\n",
              "      box-shadow: 0px 1px 3px 1px rgba(0, 0, 0, 0.15);\n",
              "      filter: drop-shadow(0px 1px 2px rgba(0, 0, 0, 0.3));\n",
              "      fill: #FFFFFF;\n",
              "    }\n",
              "  </style>\n",
              "\n",
              "      <script>\n",
              "        const buttonEl =\n",
              "          document.querySelector('#df-6960af4b-f65a-45ed-9dc9-0b12f6cf8508 button.colab-df-convert');\n",
              "        buttonEl.style.display =\n",
              "          google.colab.kernel.accessAllowed ? 'block' : 'none';\n",
              "\n",
              "        async function convertToInteractive(key) {\n",
              "          const element = document.querySelector('#df-6960af4b-f65a-45ed-9dc9-0b12f6cf8508');\n",
              "          const dataTable =\n",
              "            await google.colab.kernel.invokeFunction('convertToInteractive',\n",
              "                                                     [key], {});\n",
              "          if (!dataTable) return;\n",
              "\n",
              "          const docLinkHtml = 'Like what you see? Visit the ' +\n",
              "            '<a target=\"_blank\" href=https://colab.research.google.com/notebooks/data_table.ipynb>data table notebook</a>'\n",
              "            + ' to learn more about interactive tables.';\n",
              "          element.innerHTML = '';\n",
              "          dataTable['output_type'] = 'display_data';\n",
              "          await google.colab.output.renderOutput(dataTable, element);\n",
              "          const docLink = document.createElement('div');\n",
              "          docLink.innerHTML = docLinkHtml;\n",
              "          element.appendChild(docLink);\n",
              "        }\n",
              "      </script>\n",
              "    </div>\n",
              "  </div>\n",
              "  "
            ]
          },
          "metadata": {},
          "execution_count": 79
        }
      ]
    },
    {
      "cell_type": "code",
      "source": [
        "X_train,X_test,Y_train,Y_test = train_test_split(X,Y,test_size=0.2,random_state=101)\n"
      ],
      "metadata": {
        "id": "Ehxc8SPyM0r7"
      },
      "execution_count": 80,
      "outputs": []
    },
    {
      "cell_type": "code",
      "source": [
        "model = keras.Sequential([\n",
        "    keras.layers.Flatten(input_shape=(4,)),\n",
        "    keras.layers.Dense(256, activation=tf.nn.relu),\n",
        "\tkeras.layers.Dense(16, activation=tf.nn.relu),\n",
        "    keras.layers.Dense(1, activation=tf.nn.sigmoid),\n",
        "])"
      ],
      "metadata": {
        "id": "H4dpAVV6UvK_"
      },
      "execution_count": 87,
      "outputs": []
    },
    {
      "cell_type": "markdown",
      "source": [
        "### Through Batch Gradient Descent"
      ],
      "metadata": {
        "id": "j0k6WoNnHLLE"
      }
    },
    {
      "cell_type": "code",
      "source": [
        "model.compile(optimizer=\"rmsprop\", loss=\"binary_crossentropy\", metrics=[\"accuracy\"])\n"
      ],
      "metadata": {
        "id": "DE9cGxpXaR2v"
      },
      "execution_count": 88,
      "outputs": []
    },
    {
      "cell_type": "code",
      "source": [
        "model.fit(X_train, Y_train, epochs=50, batch_size=52)\n",
        "test_loss, test_acc = model.evaluate(X_test, Y_test)"
      ],
      "metadata": {
        "colab": {
          "base_uri": "https://localhost:8080/"
        },
        "id": "Uw9ZaZwyHQie",
        "outputId": "c36c49a6-7d7e-4cfa-ec5d-b96f96df78e0"
      },
      "execution_count": 89,
      "outputs": [
        {
          "output_type": "stream",
          "name": "stdout",
          "text": [
            "Epoch 1/50\n",
            "1/1 [==============================] - 1s 541ms/step - loss: 0.7235 - accuracy: 0.5385\n",
            "Epoch 2/50\n",
            "1/1 [==============================] - 0s 7ms/step - loss: 0.6833 - accuracy: 0.5962\n",
            "Epoch 3/50\n",
            "1/1 [==============================] - 0s 7ms/step - loss: 0.6679 - accuracy: 0.6731\n",
            "Epoch 4/50\n",
            "1/1 [==============================] - 0s 13ms/step - loss: 0.6591 - accuracy: 0.6346\n",
            "Epoch 5/50\n",
            "1/1 [==============================] - 0s 10ms/step - loss: 0.6491 - accuracy: 0.6731\n",
            "Epoch 6/50\n",
            "1/1 [==============================] - 0s 11ms/step - loss: 0.6421 - accuracy: 0.6538\n",
            "Epoch 7/50\n",
            "1/1 [==============================] - 0s 7ms/step - loss: 0.6368 - accuracy: 0.6731\n",
            "Epoch 8/50\n",
            "1/1 [==============================] - 0s 7ms/step - loss: 0.6324 - accuracy: 0.6346\n",
            "Epoch 9/50\n",
            "1/1 [==============================] - 0s 7ms/step - loss: 0.6265 - accuracy: 0.6731\n",
            "Epoch 10/50\n",
            "1/1 [==============================] - 0s 7ms/step - loss: 0.6216 - accuracy: 0.6923\n",
            "Epoch 11/50\n",
            "1/1 [==============================] - 0s 8ms/step - loss: 0.6158 - accuracy: 0.6923\n",
            "Epoch 12/50\n",
            "1/1 [==============================] - 0s 7ms/step - loss: 0.6115 - accuracy: 0.6923\n",
            "Epoch 13/50\n",
            "1/1 [==============================] - 0s 13ms/step - loss: 0.6073 - accuracy: 0.6923\n",
            "Epoch 14/50\n",
            "1/1 [==============================] - 0s 7ms/step - loss: 0.6041 - accuracy: 0.7115\n",
            "Epoch 15/50\n",
            "1/1 [==============================] - 0s 7ms/step - loss: 0.6005 - accuracy: 0.6731\n",
            "Epoch 16/50\n",
            "1/1 [==============================] - 0s 8ms/step - loss: 0.5978 - accuracy: 0.7115\n",
            "Epoch 17/50\n",
            "1/1 [==============================] - 0s 8ms/step - loss: 0.5937 - accuracy: 0.6731\n",
            "Epoch 18/50\n",
            "1/1 [==============================] - 0s 8ms/step - loss: 0.5901 - accuracy: 0.7115\n",
            "Epoch 19/50\n",
            "1/1 [==============================] - 0s 8ms/step - loss: 0.5862 - accuracy: 0.6923\n",
            "Epoch 20/50\n",
            "1/1 [==============================] - 0s 9ms/step - loss: 0.5830 - accuracy: 0.7308\n",
            "Epoch 21/50\n",
            "1/1 [==============================] - 0s 8ms/step - loss: 0.5796 - accuracy: 0.6923\n",
            "Epoch 22/50\n",
            "1/1 [==============================] - 0s 7ms/step - loss: 0.5766 - accuracy: 0.7308\n",
            "Epoch 23/50\n",
            "1/1 [==============================] - 0s 8ms/step - loss: 0.5736 - accuracy: 0.6923\n",
            "Epoch 24/50\n",
            "1/1 [==============================] - 0s 8ms/step - loss: 0.5718 - accuracy: 0.7692\n",
            "Epoch 25/50\n",
            "1/1 [==============================] - 0s 8ms/step - loss: 0.5693 - accuracy: 0.6923\n",
            "Epoch 26/50\n",
            "1/1 [==============================] - 0s 8ms/step - loss: 0.5680 - accuracy: 0.7692\n",
            "Epoch 27/50\n",
            "1/1 [==============================] - 0s 8ms/step - loss: 0.5654 - accuracy: 0.7115\n",
            "Epoch 28/50\n",
            "1/1 [==============================] - 0s 8ms/step - loss: 0.5619 - accuracy: 0.7692\n",
            "Epoch 29/50\n",
            "1/1 [==============================] - 0s 9ms/step - loss: 0.5578 - accuracy: 0.6923\n",
            "Epoch 30/50\n",
            "1/1 [==============================] - 0s 8ms/step - loss: 0.5545 - accuracy: 0.8077\n",
            "Epoch 31/50\n",
            "1/1 [==============================] - 0s 12ms/step - loss: 0.5515 - accuracy: 0.7115\n",
            "Epoch 32/50\n",
            "1/1 [==============================] - 0s 8ms/step - loss: 0.5487 - accuracy: 0.8077\n",
            "Epoch 33/50\n",
            "1/1 [==============================] - 0s 7ms/step - loss: 0.5457 - accuracy: 0.7692\n",
            "Epoch 34/50\n",
            "1/1 [==============================] - 0s 8ms/step - loss: 0.5430 - accuracy: 0.7885\n",
            "Epoch 35/50\n",
            "1/1 [==============================] - 0s 8ms/step - loss: 0.5408 - accuracy: 0.7692\n",
            "Epoch 36/50\n",
            "1/1 [==============================] - 0s 8ms/step - loss: 0.5394 - accuracy: 0.7885\n",
            "Epoch 37/50\n",
            "1/1 [==============================] - 0s 9ms/step - loss: 0.5363 - accuracy: 0.7692\n",
            "Epoch 38/50\n",
            "1/1 [==============================] - 0s 14ms/step - loss: 0.5346 - accuracy: 0.7885\n",
            "Epoch 39/50\n",
            "1/1 [==============================] - 0s 7ms/step - loss: 0.5312 - accuracy: 0.7692\n",
            "Epoch 40/50\n",
            "1/1 [==============================] - 0s 7ms/step - loss: 0.5293 - accuracy: 0.8077\n",
            "Epoch 41/50\n",
            "1/1 [==============================] - 0s 7ms/step - loss: 0.5266 - accuracy: 0.7692\n",
            "Epoch 42/50\n",
            "1/1 [==============================] - 0s 8ms/step - loss: 0.5240 - accuracy: 0.8077\n",
            "Epoch 43/50\n",
            "1/1 [==============================] - 0s 8ms/step - loss: 0.5218 - accuracy: 0.7692\n",
            "Epoch 44/50\n",
            "1/1 [==============================] - 0s 7ms/step - loss: 0.5194 - accuracy: 0.8077\n",
            "Epoch 45/50\n",
            "1/1 [==============================] - 0s 8ms/step - loss: 0.5167 - accuracy: 0.7692\n",
            "Epoch 46/50\n",
            "1/1 [==============================] - 0s 8ms/step - loss: 0.5145 - accuracy: 0.8077\n",
            "Epoch 47/50\n",
            "1/1 [==============================] - 0s 8ms/step - loss: 0.5132 - accuracy: 0.7692\n",
            "Epoch 48/50\n",
            "1/1 [==============================] - 0s 7ms/step - loss: 0.5107 - accuracy: 0.8077\n",
            "Epoch 49/50\n",
            "1/1 [==============================] - 0s 7ms/step - loss: 0.5087 - accuracy: 0.7692\n",
            "Epoch 50/50\n",
            "1/1 [==============================] - 0s 9ms/step - loss: 0.5062 - accuracy: 0.8077\n",
            "1/1 [==============================] - 0s 126ms/step - loss: 0.6951 - accuracy: 0.5000\n"
          ]
        }
      ]
    },
    {
      "cell_type": "code",
      "source": [
        "y_pred = model.predict(X_test)"
      ],
      "metadata": {
        "colab": {
          "base_uri": "https://localhost:8080/"
        },
        "id": "nrscFNu8SfFJ",
        "outputId": "e01ca59a-f7e2-451c-a1cb-fe5a3842cdbd"
      },
      "execution_count": 36,
      "outputs": [
        {
          "output_type": "stream",
          "name": "stdout",
          "text": [
            "1/1 [==============================] - 0s 81ms/step\n"
          ]
        }
      ]
    },
    {
      "cell_type": "code",
      "source": [
        "evaluation = model.evaluate(X_test, Y_test)\n",
        "print(model.metrics_names)\n",
        "print(evaluation)"
      ],
      "metadata": {
        "colab": {
          "base_uri": "https://localhost:8080/"
        },
        "id": "LfUAL9HKShjY",
        "outputId": "c1a822a1-c781-44c4-d207-4e3794cb44da"
      },
      "execution_count": 37,
      "outputs": [
        {
          "output_type": "stream",
          "name": "stdout",
          "text": [
            "1/1 [==============================] - 0s 20ms/step - loss: 0.6917 - accuracy: 0.5000\n",
            "['loss', 'accuracy']\n",
            "[0.6917446255683899, 0.5]\n"
          ]
        }
      ]
    },
    {
      "cell_type": "markdown",
      "source": [
        "## **Through SGD**"
      ],
      "metadata": {
        "id": "Ft6Ll_TwGzD8"
      }
    },
    {
      "cell_type": "code",
      "source": [
        "from keras import optimizers \n",
        "# stochastic gradient descent\n",
        "model.compile(optimizer=\"sgd\", loss=\"binary_crossentropy\", metrics=[\"accuracy\"])"
      ],
      "metadata": {
        "id": "-1f2eQcvGvS_"
      },
      "execution_count": 38,
      "outputs": []
    },
    {
      "cell_type": "code",
      "source": [
        "model.fit(X_train, Y_train, epochs=50, batch_size=1)\n",
        "test_loss, test_acc = model.evaluate(X_test, Y_test)"
      ],
      "metadata": {
        "colab": {
          "base_uri": "https://localhost:8080/"
        },
        "id": "rsmEjxY3G5Sa",
        "outputId": "9ae843eb-a80f-4d89-f75d-32b05c09621d"
      },
      "execution_count": 39,
      "outputs": [
        {
          "output_type": "stream",
          "name": "stdout",
          "text": [
            "Epoch 1/50\n",
            "52/52 [==============================] - 0s 1ms/step - loss: 0.5741 - accuracy: 0.6923\n",
            "Epoch 2/50\n",
            "52/52 [==============================] - 0s 1ms/step - loss: 0.5743 - accuracy: 0.7115\n",
            "Epoch 3/50\n",
            "52/52 [==============================] - 0s 2ms/step - loss: 0.5631 - accuracy: 0.7308\n",
            "Epoch 4/50\n",
            "52/52 [==============================] - 0s 2ms/step - loss: 0.5642 - accuracy: 0.7500\n",
            "Epoch 5/50\n",
            "52/52 [==============================] - 0s 2ms/step - loss: 0.5447 - accuracy: 0.6923\n",
            "Epoch 6/50\n",
            "52/52 [==============================] - 0s 1ms/step - loss: 0.5204 - accuracy: 0.7692\n",
            "Epoch 7/50\n",
            "52/52 [==============================] - 0s 2ms/step - loss: 0.5197 - accuracy: 0.6923\n",
            "Epoch 8/50\n",
            "52/52 [==============================] - 0s 2ms/step - loss: 0.5397 - accuracy: 0.7500\n",
            "Epoch 9/50\n",
            "52/52 [==============================] - 0s 2ms/step - loss: 0.5305 - accuracy: 0.7308\n",
            "Epoch 10/50\n",
            "52/52 [==============================] - 0s 2ms/step - loss: 0.5327 - accuracy: 0.6731\n",
            "Epoch 11/50\n",
            "52/52 [==============================] - 0s 2ms/step - loss: 0.5365 - accuracy: 0.7500\n",
            "Epoch 12/50\n",
            "52/52 [==============================] - 0s 1ms/step - loss: 0.5237 - accuracy: 0.7500\n",
            "Epoch 13/50\n",
            "52/52 [==============================] - 0s 1ms/step - loss: 0.5391 - accuracy: 0.6538\n",
            "Epoch 14/50\n",
            "52/52 [==============================] - 0s 1ms/step - loss: 0.5289 - accuracy: 0.7308\n",
            "Epoch 15/50\n",
            "52/52 [==============================] - 0s 2ms/step - loss: 0.4989 - accuracy: 0.7885\n",
            "Epoch 16/50\n",
            "52/52 [==============================] - 0s 2ms/step - loss: 0.5061 - accuracy: 0.7308\n",
            "Epoch 17/50\n",
            "52/52 [==============================] - 0s 2ms/step - loss: 0.5167 - accuracy: 0.7500\n",
            "Epoch 18/50\n",
            "52/52 [==============================] - 0s 2ms/step - loss: 0.5115 - accuracy: 0.7500\n",
            "Epoch 19/50\n",
            "52/52 [==============================] - 0s 2ms/step - loss: 0.5172 - accuracy: 0.7115\n",
            "Epoch 20/50\n",
            "52/52 [==============================] - 0s 2ms/step - loss: 0.4929 - accuracy: 0.8077\n",
            "Epoch 21/50\n",
            "52/52 [==============================] - 0s 2ms/step - loss: 0.4881 - accuracy: 0.7500\n",
            "Epoch 22/50\n",
            "52/52 [==============================] - 0s 2ms/step - loss: 0.4871 - accuracy: 0.7692\n",
            "Epoch 23/50\n",
            "52/52 [==============================] - 0s 2ms/step - loss: 0.4920 - accuracy: 0.7885\n",
            "Epoch 24/50\n",
            "52/52 [==============================] - 0s 2ms/step - loss: 0.4923 - accuracy: 0.7500\n",
            "Epoch 25/50\n",
            "52/52 [==============================] - 0s 2ms/step - loss: 0.4769 - accuracy: 0.7308\n",
            "Epoch 26/50\n",
            "52/52 [==============================] - 0s 2ms/step - loss: 0.4821 - accuracy: 0.7308\n",
            "Epoch 27/50\n",
            "52/52 [==============================] - 0s 2ms/step - loss: 0.4858 - accuracy: 0.7885\n",
            "Epoch 28/50\n",
            "52/52 [==============================] - 0s 2ms/step - loss: 0.4636 - accuracy: 0.7692\n",
            "Epoch 29/50\n",
            "52/52 [==============================] - 0s 2ms/step - loss: 0.4797 - accuracy: 0.7692\n",
            "Epoch 30/50\n",
            "52/52 [==============================] - 0s 2ms/step - loss: 0.4760 - accuracy: 0.8077\n",
            "Epoch 31/50\n",
            "52/52 [==============================] - 0s 2ms/step - loss: 0.4676 - accuracy: 0.8269\n",
            "Epoch 32/50\n",
            "52/52 [==============================] - 0s 2ms/step - loss: 0.4795 - accuracy: 0.7692\n",
            "Epoch 33/50\n",
            "52/52 [==============================] - 0s 2ms/step - loss: 0.4731 - accuracy: 0.7500\n",
            "Epoch 34/50\n",
            "52/52 [==============================] - 0s 2ms/step - loss: 0.4552 - accuracy: 0.7692\n",
            "Epoch 35/50\n",
            "52/52 [==============================] - 0s 2ms/step - loss: 0.4610 - accuracy: 0.8269\n",
            "Epoch 36/50\n",
            "52/52 [==============================] - 0s 2ms/step - loss: 0.4513 - accuracy: 0.7692\n",
            "Epoch 37/50\n",
            "52/52 [==============================] - 0s 2ms/step - loss: 0.4520 - accuracy: 0.8269\n",
            "Epoch 38/50\n",
            "52/52 [==============================] - 0s 2ms/step - loss: 0.4542 - accuracy: 0.7692\n",
            "Epoch 39/50\n",
            "52/52 [==============================] - 0s 2ms/step - loss: 0.4411 - accuracy: 0.7885\n",
            "Epoch 40/50\n",
            "52/52 [==============================] - 0s 2ms/step - loss: 0.4725 - accuracy: 0.8077\n",
            "Epoch 41/50\n",
            "52/52 [==============================] - 0s 2ms/step - loss: 0.4575 - accuracy: 0.7885\n",
            "Epoch 42/50\n",
            "52/52 [==============================] - 0s 2ms/step - loss: 0.4515 - accuracy: 0.8077\n",
            "Epoch 43/50\n",
            "52/52 [==============================] - 0s 2ms/step - loss: 0.4442 - accuracy: 0.7500\n",
            "Epoch 44/50\n",
            "52/52 [==============================] - 0s 2ms/step - loss: 0.4322 - accuracy: 0.7885\n",
            "Epoch 45/50\n",
            "52/52 [==============================] - 0s 2ms/step - loss: 0.4438 - accuracy: 0.7885\n",
            "Epoch 46/50\n",
            "52/52 [==============================] - 0s 2ms/step - loss: 0.4421 - accuracy: 0.8077\n",
            "Epoch 47/50\n",
            "52/52 [==============================] - 0s 2ms/step - loss: 0.4302 - accuracy: 0.7692\n",
            "Epoch 48/50\n",
            "52/52 [==============================] - 0s 2ms/step - loss: 0.4264 - accuracy: 0.7500\n",
            "Epoch 49/50\n",
            "52/52 [==============================] - 0s 1ms/step - loss: 0.4370 - accuracy: 0.8077\n",
            "Epoch 50/50\n",
            "52/52 [==============================] - 0s 2ms/step - loss: 0.4422 - accuracy: 0.7692\n"
          ]
        },
        {
          "output_type": "stream",
          "name": "stderr",
          "text": [
            "WARNING:tensorflow:5 out of the last 6 calls to <function Model.make_test_function.<locals>.test_function at 0x7f1cedb4c3b0> triggered tf.function retracing. Tracing is expensive and the excessive number of tracings could be due to (1) creating @tf.function repeatedly in a loop, (2) passing tensors with different shapes, (3) passing Python objects instead of tensors. For (1), please define your @tf.function outside of the loop. For (2), @tf.function has reduce_retracing=True option that can avoid unnecessary retracing. For (3), please refer to https://www.tensorflow.org/guide/function#controlling_retracing and https://www.tensorflow.org/api_docs/python/tf/function for  more details.\n"
          ]
        },
        {
          "output_type": "stream",
          "name": "stdout",
          "text": [
            "1/1 [==============================] - 0s 119ms/step - loss: 0.8407 - accuracy: 0.5000\n"
          ]
        }
      ]
    },
    {
      "cell_type": "code",
      "source": [
        "evaluation = model.evaluate(X_test, Y_test)\n",
        "print(model.metrics_names)\n",
        "print(evaluation)"
      ],
      "metadata": {
        "colab": {
          "base_uri": "https://localhost:8080/"
        },
        "id": "Thy2pnATS-fN",
        "outputId": "02772e87-4cfe-41d3-c7fb-92149c6e7eab"
      },
      "execution_count": 40,
      "outputs": [
        {
          "output_type": "stream",
          "name": "stdout",
          "text": [
            "1/1 [==============================] - 0s 19ms/step - loss: 0.8407 - accuracy: 0.5000\n",
            "['loss', 'accuracy']\n",
            "[0.8406686782836914, 0.5]\n"
          ]
        }
      ]
    },
    {
      "cell_type": "markdown",
      "source": [
        "## Through Mini Batch Gradient Descent"
      ],
      "metadata": {
        "id": "OsWncOeqG6vl"
      }
    },
    {
      "cell_type": "code",
      "source": [
        "# mini batch gradient descent\n",
        "model.compile(optimizer=\"sgd\", loss=\"binary_crossentropy\", metrics=[\"accuracy\"])"
      ],
      "metadata": {
        "id": "_D7-u6uAG6Bm"
      },
      "execution_count": 41,
      "outputs": []
    },
    {
      "cell_type": "code",
      "source": [
        "model.fit(X_train, Y_train, epochs=50, batch_size=8)\n",
        "test_loss, test_acc = model.evaluate(X_test, Y_test)"
      ],
      "metadata": {
        "colab": {
          "base_uri": "https://localhost:8080/"
        },
        "id": "3F9_88U_HG4-",
        "outputId": "a35085e9-1172-4763-ebec-80967e2990b9"
      },
      "execution_count": 42,
      "outputs": [
        {
          "output_type": "stream",
          "name": "stdout",
          "text": [
            "Epoch 1/50\n",
            "7/7 [==============================] - 0s 2ms/step - loss: 0.4027 - accuracy: 0.8654\n",
            "Epoch 2/50\n",
            "7/7 [==============================] - 0s 2ms/step - loss: 0.3916 - accuracy: 0.8654\n",
            "Epoch 3/50\n",
            "7/7 [==============================] - 0s 2ms/step - loss: 0.3809 - accuracy: 0.8462\n",
            "Epoch 4/50\n",
            "7/7 [==============================] - 0s 2ms/step - loss: 0.3789 - accuracy: 0.8269\n",
            "Epoch 5/50\n",
            "7/7 [==============================] - 0s 2ms/step - loss: 0.3760 - accuracy: 0.8654\n",
            "Epoch 6/50\n",
            "7/7 [==============================] - 0s 2ms/step - loss: 0.3735 - accuracy: 0.8654\n",
            "Epoch 7/50\n",
            "7/7 [==============================] - 0s 2ms/step - loss: 0.3708 - accuracy: 0.8654\n",
            "Epoch 8/50\n",
            "7/7 [==============================] - 0s 2ms/step - loss: 0.3690 - accuracy: 0.8269\n",
            "Epoch 9/50\n",
            "7/7 [==============================] - 0s 2ms/step - loss: 0.3706 - accuracy: 0.8654\n",
            "Epoch 10/50\n",
            "7/7 [==============================] - 0s 3ms/step - loss: 0.3676 - accuracy: 0.8654\n",
            "Epoch 11/50\n",
            "7/7 [==============================] - 0s 2ms/step - loss: 0.3697 - accuracy: 0.8654\n",
            "Epoch 12/50\n",
            "7/7 [==============================] - 0s 3ms/step - loss: 0.3663 - accuracy: 0.8654\n",
            "Epoch 13/50\n",
            "7/7 [==============================] - 0s 3ms/step - loss: 0.3700 - accuracy: 0.8462\n",
            "Epoch 14/50\n",
            "7/7 [==============================] - 0s 2ms/step - loss: 0.3703 - accuracy: 0.8269\n",
            "Epoch 15/50\n",
            "7/7 [==============================] - 0s 2ms/step - loss: 0.3703 - accuracy: 0.8654\n",
            "Epoch 16/50\n",
            "7/7 [==============================] - 0s 2ms/step - loss: 0.3681 - accuracy: 0.8269\n",
            "Epoch 17/50\n",
            "7/7 [==============================] - 0s 2ms/step - loss: 0.3644 - accuracy: 0.8462\n",
            "Epoch 18/50\n",
            "7/7 [==============================] - 0s 3ms/step - loss: 0.3684 - accuracy: 0.8462\n",
            "Epoch 19/50\n",
            "7/7 [==============================] - 0s 3ms/step - loss: 0.3622 - accuracy: 0.8654\n",
            "Epoch 20/50\n",
            "7/7 [==============================] - 0s 2ms/step - loss: 0.3630 - accuracy: 0.8462\n",
            "Epoch 21/50\n",
            "7/7 [==============================] - 0s 3ms/step - loss: 0.3614 - accuracy: 0.8654\n",
            "Epoch 22/50\n",
            "7/7 [==============================] - 0s 2ms/step - loss: 0.3603 - accuracy: 0.8654\n",
            "Epoch 23/50\n",
            "7/7 [==============================] - 0s 2ms/step - loss: 0.3607 - accuracy: 0.8654\n",
            "Epoch 24/50\n",
            "7/7 [==============================] - 0s 2ms/step - loss: 0.3638 - accuracy: 0.8269\n",
            "Epoch 25/50\n",
            "7/7 [==============================] - 0s 2ms/step - loss: 0.3581 - accuracy: 0.8462\n",
            "Epoch 26/50\n",
            "7/7 [==============================] - 0s 2ms/step - loss: 0.3653 - accuracy: 0.8654\n",
            "Epoch 27/50\n",
            "7/7 [==============================] - 0s 2ms/step - loss: 0.3635 - accuracy: 0.8269\n",
            "Epoch 28/50\n",
            "7/7 [==============================] - 0s 2ms/step - loss: 0.3560 - accuracy: 0.8654\n",
            "Epoch 29/50\n",
            "7/7 [==============================] - 0s 2ms/step - loss: 0.3602 - accuracy: 0.8462\n",
            "Epoch 30/50\n",
            "7/7 [==============================] - 0s 2ms/step - loss: 0.3562 - accuracy: 0.8654\n",
            "Epoch 31/50\n",
            "7/7 [==============================] - 0s 4ms/step - loss: 0.3552 - accuracy: 0.8654\n",
            "Epoch 32/50\n",
            "7/7 [==============================] - 0s 3ms/step - loss: 0.3549 - accuracy: 0.8654\n",
            "Epoch 33/50\n",
            "7/7 [==============================] - 0s 2ms/step - loss: 0.3559 - accuracy: 0.8654\n",
            "Epoch 34/50\n",
            "7/7 [==============================] - 0s 2ms/step - loss: 0.3581 - accuracy: 0.8654\n",
            "Epoch 35/50\n",
            "7/7 [==============================] - 0s 2ms/step - loss: 0.3599 - accuracy: 0.8462\n",
            "Epoch 36/50\n",
            "7/7 [==============================] - 0s 3ms/step - loss: 0.3596 - accuracy: 0.8654\n",
            "Epoch 37/50\n",
            "7/7 [==============================] - 0s 2ms/step - loss: 0.3542 - accuracy: 0.8462\n",
            "Epoch 38/50\n",
            "7/7 [==============================] - 0s 3ms/step - loss: 0.3580 - accuracy: 0.8654\n",
            "Epoch 39/50\n",
            "7/7 [==============================] - 0s 2ms/step - loss: 0.3514 - accuracy: 0.8462\n",
            "Epoch 40/50\n",
            "7/7 [==============================] - 0s 2ms/step - loss: 0.3542 - accuracy: 0.8462\n",
            "Epoch 41/50\n",
            "7/7 [==============================] - 0s 2ms/step - loss: 0.3611 - accuracy: 0.8462\n",
            "Epoch 42/50\n",
            "7/7 [==============================] - 0s 2ms/step - loss: 0.3498 - accuracy: 0.8654\n",
            "Epoch 43/50\n",
            "7/7 [==============================] - 0s 2ms/step - loss: 0.3533 - accuracy: 0.8462\n",
            "Epoch 44/50\n",
            "7/7 [==============================] - 0s 2ms/step - loss: 0.3551 - accuracy: 0.8269\n",
            "Epoch 45/50\n",
            "7/7 [==============================] - 0s 2ms/step - loss: 0.3516 - accuracy: 0.8462\n",
            "Epoch 46/50\n",
            "7/7 [==============================] - 0s 2ms/step - loss: 0.3525 - accuracy: 0.8654\n",
            "Epoch 47/50\n",
            "7/7 [==============================] - 0s 2ms/step - loss: 0.3478 - accuracy: 0.8654\n",
            "Epoch 48/50\n",
            "7/7 [==============================] - 0s 2ms/step - loss: 0.3501 - accuracy: 0.8654\n",
            "Epoch 49/50\n",
            "7/7 [==============================] - 0s 2ms/step - loss: 0.3524 - accuracy: 0.8462\n",
            "Epoch 50/50\n",
            "7/7 [==============================] - 0s 2ms/step - loss: 0.3495 - accuracy: 0.8654\n"
          ]
        },
        {
          "output_type": "stream",
          "name": "stderr",
          "text": [
            "WARNING:tensorflow:6 out of the last 8 calls to <function Model.make_test_function.<locals>.test_function at 0x7f1ced885050> triggered tf.function retracing. Tracing is expensive and the excessive number of tracings could be due to (1) creating @tf.function repeatedly in a loop, (2) passing tensors with different shapes, (3) passing Python objects instead of tensors. For (1), please define your @tf.function outside of the loop. For (2), @tf.function has reduce_retracing=True option that can avoid unnecessary retracing. For (3), please refer to https://www.tensorflow.org/guide/function#controlling_retracing and https://www.tensorflow.org/api_docs/python/tf/function for  more details.\n"
          ]
        },
        {
          "output_type": "stream",
          "name": "stdout",
          "text": [
            "1/1 [==============================] - 0s 127ms/step - loss: 0.8761 - accuracy: 0.5714\n"
          ]
        }
      ]
    },
    {
      "cell_type": "code",
      "source": [
        "evaluation = model.evaluate(X_test, Y_test)\n",
        "print(model.metrics_names)\n",
        "print(evaluation)\n"
      ],
      "metadata": {
        "colab": {
          "base_uri": "https://localhost:8080/"
        },
        "id": "T6kx0Z7TTEIH",
        "outputId": "9f83926c-1e19-474b-d70a-886fde1572df"
      },
      "execution_count": 43,
      "outputs": [
        {
          "output_type": "stream",
          "name": "stdout",
          "text": [
            "1/1 [==============================] - 0s 18ms/step - loss: 0.8761 - accuracy: 0.5714\n",
            "['loss', 'accuracy']\n",
            "[0.8761276602745056, 0.5714285969734192]\n"
          ]
        }
      ]
    }
  ]
}